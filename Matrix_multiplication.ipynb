{
 "cells": [
  {
   "cell_type": "code",
   "execution_count": 1,
   "id": "a5587a80",
   "metadata": {},
   "outputs": [],
   "source": [
    "import numpy as np \n",
    "import matplotlib.pyplot as plt \n",
    "from scipy.linalg import dft\n",
    "from scipy.fft import fft "
   ]
  },
  {
   "cell_type": "markdown",
   "id": "49eed98f",
   "metadata": {},
   "source": [
    "# Code Challenge 1 \n",
    "## Implement matrix multiplication via layering using a for loop and compare to the designated numpy matrix multiplication function"
   ]
  },
  {
   "cell_type": "code",
   "execution_count": 2,
   "id": "9c8b1545",
   "metadata": {},
   "outputs": [
    {
     "name": "stdout",
     "output_type": "stream",
     "text": [
      "Using for loop: \n",
      "\n",
      "[[ 0.06152668  2.35980013 -1.15923439  3.53978787  0.74026021 -2.1242039\n",
      "   0.3802273 ]\n",
      " [ 0.66084656  5.03727017  1.2278103  -4.55474237  4.04550284  1.03398226\n",
      "  -2.17497057]\n",
      " [ 0.01070231 -2.81600748 -1.69472061  6.08703932 -3.98090848 -0.45481133\n",
      "   2.3806352 ]\n",
      " [-0.45392792 -0.48805063 -0.07121441 -0.29650137 -2.59278377  4.34165768\n",
      "  -0.43459453]\n",
      " [-0.6917601  -1.1679814   0.50849376 -0.32505206  0.16840013  0.28557517\n",
      "  -1.13801241]\n",
      " [-0.76544365 -0.63441657  0.51159364  0.31900003  0.00904882  1.22496315\n",
      "  -1.69611083]\n",
      " [-0.40224903 -2.94147561  0.18865809  1.95853088  0.57609678 -3.45330318\n",
      "   0.05309518]] \n",
      "\n",
      "Using direct matrix multiplication: \n",
      "\n",
      "[[ 0.06152668  2.35980013 -1.15923439  3.53978787  0.74026021 -2.1242039\n",
      "   0.3802273 ]\n",
      " [ 0.66084656  5.03727017  1.2278103  -4.55474237  4.04550284  1.03398226\n",
      "  -2.17497057]\n",
      " [ 0.01070231 -2.81600748 -1.69472061  6.08703932 -3.98090848 -0.45481133\n",
      "   2.3806352 ]\n",
      " [-0.45392792 -0.48805063 -0.07121441 -0.29650137 -2.59278377  4.34165768\n",
      "  -0.43459453]\n",
      " [-0.6917601  -1.1679814   0.50849376 -0.32505206  0.16840013  0.28557517\n",
      "  -1.13801241]\n",
      " [-0.76544365 -0.63441657  0.51159364  0.31900003  0.00904882  1.22496315\n",
      "  -1.69611083]\n",
      " [-0.40224903 -2.94147561  0.18865809  1.95853088  0.57609678 -3.45330318\n",
      "   0.05309518]] \n",
      "\n",
      "Test to see if they are the same: \n",
      "\n",
      "[[ 0.00000000e+00  0.00000000e+00  0.00000000e+00  0.00000000e+00\n",
      "   0.00000000e+00  0.00000000e+00 -1.11022302e-16]\n",
      " [ 0.00000000e+00  0.00000000e+00  0.00000000e+00  0.00000000e+00\n",
      "   0.00000000e+00  0.00000000e+00  0.00000000e+00]\n",
      " [ 0.00000000e+00  0.00000000e+00  0.00000000e+00  0.00000000e+00\n",
      "   0.00000000e+00  0.00000000e+00  0.00000000e+00]\n",
      " [ 0.00000000e+00  0.00000000e+00  0.00000000e+00  0.00000000e+00\n",
      "   0.00000000e+00  0.00000000e+00  0.00000000e+00]\n",
      " [ 0.00000000e+00  0.00000000e+00  0.00000000e+00  0.00000000e+00\n",
      "  -2.22044605e-16  1.11022302e-16  0.00000000e+00]\n",
      " [ 0.00000000e+00  2.22044605e-16  0.00000000e+00  0.00000000e+00\n",
      "  -2.22044605e-16  0.00000000e+00 -2.22044605e-16]\n",
      " [-2.22044605e-16  0.00000000e+00  0.00000000e+00  0.00000000e+00\n",
      "   0.00000000e+00  0.00000000e+00  5.55111512e-17]]\n"
     ]
    }
   ],
   "source": [
    "# Generate two matrices \n",
    "m = 7 \n",
    "n = 5 \n",
    "\n",
    "A = np.random.randn(m,n) \n",
    "B = np.random.randn(n,m) \n",
    "\n",
    "# Build the product matrix layerwise using a for loop \n",
    "C1 = np.zeros((m,m)) \n",
    "for i in range(n):\n",
    "    C1 += np.outer(A[:,i], B[i,:])\n",
    "    \n",
    "    \n",
    "print(\"Using for loop: \\n\")    \n",
    "print(C1,'\\n') \n",
    "\n",
    "\n",
    "# Implement matrix multiplication directly \n",
    "C2 = A@B\n",
    "print(\"Using direct matrix multiplication: \\n\")\n",
    "print(C2,'\\n')\n",
    "\n",
    "\n",
    "#Test to see if they are the same \n",
    "print(\"Test to see if they are the same: \\n\")\n",
    "print(C2-C1)\n"
   ]
  },
  {
   "cell_type": "markdown",
   "id": "53d45dc3",
   "metadata": {},
   "source": [
    "# Code Challenge 2 - Geometric Transformations via Matrix Multiplication \n"
   ]
  },
  {
   "cell_type": "code",
   "execution_count": 3,
   "id": "5e4b5ae5",
   "metadata": {},
   "outputs": [
    {
     "data": {
      "image/png": "[encoded data removed]",
      "text/plain": [
       "<Figure size 432x288 with 1 Axes>"
      ]
     },
     "metadata": {
      "needs_background": "light"
     },
     "output_type": "display_data"
    }
   ],
   "source": [
    "# Generate x,y coordinates for a circle \n",
    "angle = np.random.randint(0,360)\n",
    "radius = np.random.randint(0,60)\n",
    "x = np.linspace(0,2*np.pi,angle)\n",
    "y = np.linspace(0,2*np.pi,angle)\n",
    "\n",
    "# Plot the circle \n",
    "plt.plot(np.cos(x),np.sin(y),'bo',label='Original')\n",
    "plt.axis([-2,2,-2,2])\n",
    "\n",
    "# Create a 2x2 matrix \n",
    "m = 2 \n",
    "n = 2 \n",
    "A = np.random.randn(m,n)\n",
    "\n",
    "# Multiply the matrix by the circle coordinates \n",
    "xy = np.vstack((np.cos(x),np.sin(y))).T\n",
    "newxy = xy@A\n",
    "\n",
    "# Plot the new coordinates, ie the product vector of the matrix multiplication \n",
    "plt.plot(newxy[:,0],newxy[:,1],'ro',label='Transformed')\n",
    "plt.legend()\n",
    "plt.show()"
   ]
  },
  {
   "cell_type": "markdown",
   "id": "ede49682",
   "metadata": {},
   "source": [
    "# Code Challenge 3 - Symmetry of Combined Symmetric Matrices \n",
    "## What happens when you combine two symmetric matrices? "
   ]
  },
  {
   "cell_type": "code",
   "execution_count": 4,
   "id": "7688f29d",
   "metadata": {},
   "outputs": [
    {
     "name": "stdout",
     "output_type": "stream",
     "text": [
      "Sum \n",
      "[[-1.30051784 -0.92506342  0.62062172  0.78151802 -0.00894667]\n",
      " [-0.92506342 -1.18519539  0.15850643  0.93261586 -0.6076134 ]\n",
      " [ 0.62062172  0.15850643  0.64671317 -0.02085457  0.14367544]\n",
      " [ 0.78151802  0.93261586 -0.02085457  2.14056978 -0.49080799]\n",
      " [-0.00894667 -0.6076134   0.14367544 -0.49080799  2.45712651]] \n",
      "\n",
      "Sum_Matrix == Sum_Matrix.transpose?  True \n",
      "\n",
      "Standard Matrix Multiplication \n",
      "[[-1.10951966  0.54503701  1.09569213  0.21648507 -0.26196095]\n",
      " [ 1.8685183  -1.6806053  -1.8835424  -0.11341906 -1.04340985]\n",
      " [ 2.45286602 -1.4717035  -2.493731    0.39088889  0.13949368]\n",
      " [ 0.26585562  0.24395601 -0.405123    1.03433326 -0.34286834]\n",
      " [-0.61103365  0.13933377  0.77823203 -0.79141416  1.34621697]] \n",
      "\n",
      "Mul_Matrix == Mul_Matrix.transpose? False \n",
      "\n",
      "Hademard (Elementwise) Multiplication\n",
      "[[ 3.21351243e-01 -1.31024373e+00 -2.45949726e-01  1.25765795e-01\n",
      "  -4.43246723e-04]\n",
      " [-1.31024373e+00  1.97380227e-01 -7.60820587e-01  2.16479846e-01\n",
      "  -2.34010572e-02]\n",
      " [-2.45949726e-01 -7.60820587e-01 -1.34963047e+00 -1.28675090e-01\n",
      "  -8.65512006e-03]\n",
      " [ 1.25765795e-01  2.16479846e-01 -1.28675090e-01  7.68328338e-01\n",
      "   5.24343766e-02]\n",
      " [-4.43246723e-04 -2.34010572e-02 -8.65512006e-03  5.24343766e-02\n",
      "   1.32628202e+00]] \n",
      "\n",
      "Hademard_Matrix == Hademard_Matrix.transpose?  True\n"
     ]
    }
   ],
   "source": [
    "# Create two symmetric matrices\n",
    "\n",
    "A = np.random.randn(5,5) \n",
    "B = np.random.randn(5,5) \n",
    "A_sym = (A+A.T)/2\n",
    "B_sym = (B+B.T)/2 \n",
    "\n",
    "\"\"\"Compute the sum, standard multiplication and hademard multiplication of the two matrices \"\"\" \n",
    "\"\"\"A square matrix is said to be symmetric if its transpose is the same \"\"\"\n",
    "\n",
    "\"\"\"Sum\"\"\"\n",
    "\n",
    "mat_sum = A_sym + B_sym \n",
    "print(\"Sum \")\n",
    "print(mat_sum,'\\n')\n",
    "\n",
    "# Determine whether the resulting matrix is symmetric\n",
    "print(\"Sum_Matrix == Sum_Matrix.transpose? \",np.all(mat_sum == mat_sum.T),'\\n')\n",
    "\n",
    "\n",
    "\"\"\"Standard Matrix Multiplication\"\"\"\n",
    "\n",
    "mat_std_mul = A_sym @ B_sym \n",
    "print(\"Standard Matrix Multiplication \")\n",
    "print(mat_std_mul,'\\n')\n",
    "\n",
    "# Determine whether the resulting matrix is symmetric\n",
    "print(\"Mul_Matrix == Mul_Matrix.transpose?\", np.all(mat_std_mul == mat_std_mul.T),'\\n')\n",
    "\n",
    "\n",
    "\"\"\"Hademard (Elementwise) Multiplication \"\"\"\n",
    "\n",
    "mat_had_mul = A_sym * B_sym \n",
    "print(\"Hademard (Elementwise) Multiplication\")\n",
    "print(mat_had_mul,'\\n')\n",
    "\n",
    "# Determine whether the resulting matrix is symmetric\n",
    "print(\"Hademard_Matrix == Hademard_Matrix.transpose? \", np.all(mat_had_mul == mat_had_mul.T))\n"
   ]
  },
  {
   "cell_type": "markdown",
   "id": "91eacd55",
   "metadata": {},
   "source": [
    "# Code Challenge 4 - Standard and Hademard Multiplication for Diagonal Matrices \n",
    "## Create two matrices, one 'full',i.e., non zero and one diagonal. Multiply each matrix by itself using standard and Hademard multiplication\n",
    "### This code shows that in diagonal matrices, standard multiplication will give the same result as hademard multiplication. This is useful for eigenvalue decomposition and the singular value decomposition "
   ]
  },
  {
   "cell_type": "code",
   "execution_count": 5,
   "id": "22d6cfcc",
   "metadata": {},
   "outputs": [
    {
     "name": "stdout",
     "output_type": "stream",
     "text": [
      "Full Standard Multiplication  \n",
      " [[ 1.04306978  3.43734318 -1.82685935 -0.94890947]\n",
      " [ 0.40346952  4.02582088 -1.93094895 -1.09126606]\n",
      " [-1.56039827 -0.8241082   1.52300093  0.31569216]\n",
      " [ 0.44720986  1.95247752 -0.67732027 -0.16076545]] \n",
      "\n",
      "Full Hademard Multiplication  \n",
      " [[0.01423301 2.68596413 1.7613672  0.33969642]\n",
      " [0.84085377 0.61813868 1.53888595 0.21172758]\n",
      " [0.07465621 3.54219506 0.01883431 0.24889656]\n",
      " [0.03651266 0.87286343 0.87980413 0.848452  ]] \n",
      "\n",
      "Diagonal Standard Multiplication  \n",
      " [[0.80589157 0.         0.         0.        ]\n",
      " [0.         0.83953072 0.         0.        ]\n",
      " [0.         0.         0.2252369  0.        ]\n",
      " [0.         0.         0.         0.15644574]] \n",
      "\n",
      "Diagonal Hademard Multiplication \n",
      " [[0.80589157 0.         0.         0.        ]\n",
      " [0.         0.83953072 0.         0.        ]\n",
      " [0.         0.         0.2252369  0.        ]\n",
      " [0.         0.         0.         0.15644574]]\n"
     ]
    }
   ],
   "source": [
    "# Create two square matrices (4x4), one full and one diagonal \n",
    "n = 4 \n",
    "full = np.random.randn(n,n) \n",
    "diag = np.diag(np.random.randn(4)) \n",
    "\n",
    "# Multiply each matrix by itself, (AxA): Standard and Hademard \n",
    "\n",
    "# full \n",
    "full_standard = full@full \n",
    "full_hademard = full*full \n",
    "print('Full Standard Multiplication ','\\n',full_standard,'\\n')\n",
    "print('Full Hademard Multiplication ','\\n',full_hademard,'\\n')\n",
    "\n",
    "# Diagonal \n",
    "diag_standard = diag@diag\n",
    "diag_hademard = diag*diag \n",
    "print('Diagonal Standard Multiplication ','\\n', diag_standard,'\\n')\n",
    "print('Diagonal Hademard Multiplication','\\n',diag_hademard)"
   ]
  },
  {
   "cell_type": "markdown",
   "id": "8c1758c3",
   "metadata": {},
   "source": [
    "# Code Challenge 5 - Fourier Transform via Matrix Multiplication "
   ]
  },
  {
   "cell_type": "code",
   "execution_count": 6,
   "id": "052f3e14",
   "metadata": {},
   "outputs": [
    {
     "name": "stdout",
     "output_type": "stream",
     "text": [
      "[ 1.86696987+0.00000000e+00j  0.49538509+2.21735754e-01j\n",
      "  1.07656122+8.21783175e-01j -0.55543996-1.77668180e+00j\n",
      "  1.86593256+3.97188468e+00j  0.69804756-1.36212907e-15j\n",
      "  1.86593256-3.97188468e+00j -0.55543996+1.77668180e+00j\n",
      "  1.07656122-8.21783175e-01j  0.49538509-2.21735754e-01j] \n",
      "\n",
      "[ 1.86696987-0.j          0.49538509+0.22173575j  1.07656122+0.82178317j\n",
      " -0.55543996-1.7766818j   1.86593256+3.97188468j  0.69804756-0.j\n",
      "  1.86593256-3.97188468j -0.55543996+1.7766818j   1.07656122-0.82178317j\n",
      "  0.49538509-0.22173575j] \n",
      "\n",
      "7.326389588093599 \n",
      " 7.3263895880936\n"
     ]
    }
   ],
   "source": [
    "n = 10 \n",
    "A = dft(n) \n",
    "v = np.array(np.random.randn(n)) \n",
    "print(A@v,'\\n') # Compute the dft of the vector v \n",
    "\n",
    "# Testing this using fast fourier transform \n",
    "print(fft(v),'\\n')\n",
    "\n",
    "# Testing to see if they are the same using the magnitude \n",
    "print(np.linalg.norm(A@v),'\\n',np.linalg.norm(fft(v))) \n",
    "\n"
   ]
  },
  {
   "cell_type": "markdown",
   "id": "b0218254",
   "metadata": {},
   "source": [
    "# Code Challenge 6 - The Matrix Asymmetry Index   "
   ]
  },
  {
   "cell_type": "code",
   "execution_count": null,
   "id": "bd2e3d6f",
   "metadata": {},
   "outputs": [],
   "source": []
  }
 ],
 "metadata": {
  "kernelspec": {
   "display_name": "Python 3 (ipykernel)",
   "language": "python",
   "name": "python3"
  },
  "language_info": {
   "codemirror_mode": {
    "name": "ipython",
    "version": 3
   },
   "file_extension": ".py",
   "mimetype": "text/x-python",
   "name": "python",
   "nbconvert_exporter": "python",
   "pygments_lexer": "ipython3",
   "version": "3.8.8"
  }
 },
 "nbformat": 4,
 "nbformat_minor": 5
}
