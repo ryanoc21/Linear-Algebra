{
 "cells": [
  {
   "cell_type": "code",
   "execution_count": 1,
   "id": "51231a24",
   "metadata": {},
   "outputs": [],
   "source": [
    "import numpy as np "
   ]
  },
  {
   "cell_type": "markdown",
   "id": "7b87326f",
   "metadata": {},
   "source": [
    "# Code Challenge 1\n",
    "## Create reduced rank matrices using matrix multiplication "
   ]
  },
  {
   "cell_type": "code",
   "execution_count": 2,
   "id": "bb67d6f7",
   "metadata": {},
   "outputs": [
    {
     "name": "stdout",
     "output_type": "stream",
     "text": [
      "Matrix Shape: (10, 10)\n",
      "Matrix Rank: 4\n",
      " \n",
      "Matrix Shape: (8, 47)\n",
      "Matrix Rank: 3\n"
     ]
    }
   ],
   "source": [
    "# Generalize the procedure to create any mxn matrix with rank r \n",
    "def reduced_rank_function(m,n,r):\n",
    "    A = np.random.randn(m,r)\n",
    "    B = np.random.randn(r,n)\n",
    "    C = A@B\n",
    "    return C \n",
    "    \n",
    "# Create a 10x10 matrix with rank of 4 (use matrix multiplication)\n",
    "print(f\"Matrix Shape: {np.shape(reduced_rank_function(10,10,4))}\")\n",
    "print(f\"Matrix Rank: {np.linalg.matrix_rank(reduced_rank_function(10,10,4))}\")\n",
    "\n",
    "print(\" \")\n",
    "\n",
    "# Another example\n",
    "print(f\"Matrix Shape: {np.shape(reduced_rank_function(8,47,3))}\")\n",
    "print(f\"Matrix Rank: {np.linalg.matrix_rank(reduced_rank_function(8,47,3))}\")\n"
   ]
  },
  {
   "cell_type": "markdown",
   "id": "51718408",
   "metadata": {},
   "source": [
    "#### While not a universal truth, it can generally be assumed that a randomly generated matrix like the ones in the above code challenge will contain the maximum possible rank. In this light, the above code is a good example of the maximum possible matrix rank being the smaller of m or n. "
   ]
  },
  {
   "cell_type": "markdown",
   "id": "986709e9",
   "metadata": {},
   "source": [
    "# Code Challenge 2\n",
    "## Scalar multiplication and rank\n",
    "### Test whether the matrix rank is invariant to scalar multiplication.\n",
    "#### Basically whether the rank(A) is equal or not equal to rank(A times a scalar) "
   ]
  },
  {
   "cell_type": "code",
   "execution_count": 3,
   "id": "cc4d0de4",
   "metadata": {},
   "outputs": [
    {
     "name": "stdout",
     "output_type": "stream",
     "text": [
      "The rank of F is 4\n",
      "The rank of Fxl is 4\n",
      "\n",
      "The rank of R is 3\n",
      "The rank of Rxl is 3\n",
      "\n",
      "Check whether rank(l*F) == l*rank(F)\n",
      "\n",
      "rank(l*F) = 4\n",
      "l*rank(F)= 2300\n"
     ]
    },
    {
     "data": {
      "text/plain": [
       "False"
      ]
     },
     "execution_count": 3,
     "metadata": {},
     "output_type": "execute_result"
    }
   ],
   "source": [
    "# Create two rectangle full rank (F) and reduced rank (R) matrices (random) \n",
    "m = 6 \n",
    "n = 4\n",
    "\n",
    "F = np.random.randn(m,n)@np.random.randn(n,m)\n",
    "R = np.random.randn(m,n-1)@np.random.randn(n-1,n) \n",
    "\n",
    "\n",
    "# Create a random scalar l\n",
    "l = np.random.randint(1,1000)\n",
    "\n",
    "# Print the rank of the matrices F and R and the rank of l*F and l*R\n",
    "print(f\"The rank of F is {np.linalg.matrix_rank(F)}\")\n",
    "print(f\"The rank of Fxl is {np.linalg.matrix_rank(F*l)}\\n\")\n",
    "print(f\"The rank of R is {np.linalg.matrix_rank(R)}\")\n",
    "print(f\"The rank of Rxl is {np.linalg.matrix_rank(R*l)}\\n\")\n",
    "\n",
    "# Check whether rank(l*F) == l*rank(F)\n",
    "print(\"Check whether rank(l*F) == l*rank(F)\\n\")\n",
    "print(f\"rank(l*F) = {np.linalg.matrix_rank(l*F)}\")\n",
    "print(f\"l*rank(F)= {l*np.linalg.matrix_rank(F)}\")\n",
    "np.linalg.matrix_rank(l*F) == l*np.linalg.matrix_rank(F) # Check using a boolean  \n",
    "\n"
   ]
  },
  {
   "cell_type": "markdown",
   "id": "d95a0c99",
   "metadata": {},
   "source": [
    "#### The above code shows that scalar multiplying a matrix does not change the rank. Geometrically a matrix comprises of columns and rows, i.e., columns or rows that are essentially vectors that live in some space. Scalar-vector multiplication doesn't change the direction, orientation etc of the vector, all it does it stretches the vector. By multiplying the matrix by a scalar, you are stretching or shrinking the vectors inside but the vectors are not moving in a different geometric direction (dimension). This doesn't apply to 0 however, as multiplying by 0 will give you a rank of 0 "
   ]
  },
  {
   "cell_type": "markdown",
   "id": "44e943d3",
   "metadata": {},
   "source": [
    "# Code Challenge 4 \n",
    "## Show that transposing a matrix will have no effect on its rank"
   ]
  },
  {
   "cell_type": "code",
   "execution_count": 4,
   "id": "6118be0b",
   "metadata": {},
   "outputs": [
    {
     "name": "stdout",
     "output_type": "stream",
     "text": [
      "The rank of matrix A = 4\n",
      "The rank of matrix A^TA = 4\n",
      "The rank of A(A^T) = 4\n"
     ]
    }
   ],
   "source": [
    "# Matrix size \n",
    "m = 6 \n",
    "n = 4 \n",
    "\n",
    "# Create Matrices \n",
    "A = np.random.randn(m,n) \n",
    "ATA = np.transpose(A)@A\n",
    "AAT = A@np.transpose(A) \n",
    "\n",
    "# Test whether the rank is the same \n",
    "print(f\"The rank of matrix A = {np.linalg.matrix_rank(A)}\")\n",
    "print(f\"The rank of matrix A^TA = {np.linalg.matrix_rank(ATA)}\")\n",
    "print(f\"The rank of A(A^T) = {np.linalg.matrix_rank(AAT)}\")"
   ]
  },
  {
   "cell_type": "markdown",
   "id": "b2d57144",
   "metadata": {},
   "source": [
    "# Code Challenge 6 - The rank of multiplied and summed matrices \n",
    "## Delve deeper into two rules of ranks of multipled and summed matrices, in combination with the rules for the rank of a matrix times its transpose. \n",
    "## Rules \n",
    "### Multiplication: rank of AB <= min(rank(A), rank(B))\n",
    "### Addition: rank of A+B <= rank(A) + rank(B) "
   ]
  },
  {
   "cell_type": "code",
   "execution_count": 5,
   "id": "aa1c6297",
   "metadata": {},
   "outputs": [
    {
     "name": "stdout",
     "output_type": "stream",
     "text": [
      "Rank A = 2\n",
      "Rank B = 2\n",
      "\n",
      "Rank A^T(A) = 2\n",
      "Rank B^T(B) = 2\n",
      "\n",
      "Rank ATA@BTB = 2\n",
      "\n",
      "Rank ATA + BTB = 4\n",
      "\n"
     ]
    }
   ],
   "source": [
    "# Generate two random matrices (A and B), 2x5 (rectangular)\n",
    "\n",
    "m = 2 \n",
    "n = 5 \n",
    "\n",
    "A = np.random.randn(m,n) \n",
    "B = np.random.randn(m,n) \n",
    "\n",
    "# Compute ATA and BTB \n",
    "\n",
    "ATA = np.transpose(A)@A\n",
    "BTB = np.transpose(B)@B \n",
    "\n",
    "# Compute the ranks of A and B \n",
    "\n",
    "print(f\"Rank A = {np.linalg.matrix_rank(A)}\")\n",
    "print(f\"Rank B = {np.linalg.matrix_rank(B)}\\n\")\n",
    "\n",
    "# Compute the ranks of ATA and BTB \n",
    "\n",
    "print(f\"Rank A^T(A) = {np.linalg.matrix_rank(ATA)}\")\n",
    "print(f\"Rank B^T(B) = {np.linalg.matrix_rank(BTB)}\\n\")\n",
    "\n",
    "# Multiply ATA(BTB) and compute the rank using the multiplication rule \n",
    "\n",
    "ATA_times_BTB = ATA@BTB\n",
    "print(f\"Rank ATA@BTB = {np.linalg.matrix_rank(ATA_times_BTB)}\\n\")\n",
    "\n",
    "# Add ATA and BTB and compute the rank using the addition rule \n",
    "\n",
    "ATA_plus_BTB = ATA + BTB \n",
    "print(f\"Rank ATA + BTB = {np.linalg.matrix_rank(ATA_plus_BTB)}\\n\")"
   ]
  },
  {
   "cell_type": "markdown",
   "id": "539c656f",
   "metadata": {},
   "source": [
    "# Code Challenge 7 - Is this vector in the span of this set? \n",
    "## Determine whether vector V is in the span of sets S and T \n",
    "### Convert the set of vectors to a matrix. Concatonate the singular vector with the matrix to make a new matrix. If the new matrix is higher ranked than the original matrix that didn't have the vector concatanated, then the vector is not in the span of the set and is adding new information. If the rank is the same then the vector is in the span of the set. "
   ]
  },
  {
   "cell_type": "code",
   "execution_count": 26,
   "id": "147611c2",
   "metadata": {},
   "outputs": [
    {
     "name": "stdout",
     "output_type": "stream",
     "text": [
      "The rank of S = 2\n",
      "The rank of T = 2\n",
      "\n",
      "The rank of the combination of S and V = 3\n",
      "The rank of the combination of T and V = 2\n",
      "\n",
      "rank(S) < rank(S+V), therefore V is not in the span of S\n",
      "\n",
      "rank(T) == rank(T+V), therefore V is in the span of T\n"
     ]
    }
   ],
   "source": [
    "# Check if this vector \n",
    "V = np.array([[1,2,3,4]]).T\n",
    "\n",
    "# Is in the span of these sets \n",
    "S = np.vstack([[4,3,6,2],[0,4,0,1]]).T\n",
    "T = np.vstack([[1,2,2,2],[0,0,1,2]]).T\n",
    "\n",
    "print(f\"The rank of S = {np.linalg.matrix_rank(S)}\")\n",
    "print(f\"The rank of T = {np.linalg.matrix_rank(T)}\\n\")\n",
    "\n",
    "# Add V to S and T to check if they are in the same set \n",
    "SV = np.append(S,V,axis=1) \n",
    "TV = np.append(T,V,axis=1) \n",
    "\n",
    "\n",
    "# Check the rank to determine if they are in the same set ho\n",
    "print(f\"The rank of the combination of S and V = {np.linalg.matrix_rank(SV)}\")\n",
    "print(f\"The rank of the combination of T and V = {np.linalg.matrix_rank(TV)}\\n\")\n",
    "\n",
    "# Summary \n",
    "print(\"rank(S) < rank(S+V), therefore V is not in the span of S\\n\")\n",
    "print(\"rank(T) == rank(T+V), therefore V is in the span of T\")"
   ]
  }
 ],
 "metadata": {
  "kernelspec": {
   "display_name": "Python 3 (ipykernel)",
   "language": "python",
   "name": "python3"
  },
  "language_info": {
   "codemirror_mode": {
    "name": "ipython",
    "version": 3
   },
   "file_extension": ".py",
   "mimetype": "text/x-python",
   "name": "python",
   "nbconvert_exporter": "python",
   "pygments_lexer": "ipython3",
   "version": "3.8.8"
  }
 },
 "nbformat": 4,
 "nbformat_minor": 5
}
