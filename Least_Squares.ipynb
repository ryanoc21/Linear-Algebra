{
 "cells": [
  {
   "cell_type": "code",
   "execution_count": 14,
   "id": "5b5243bc",
   "metadata": {},
   "outputs": [],
   "source": [
    "import numpy as np "
   ]
  },
  {
   "cell_type": "markdown",
   "id": "25a9edb4",
   "metadata": {},
   "source": [
    "# Least-Squares via QR decomposition "
   ]
  },
  {
   "cell_type": "code",
   "execution_count": 16,
   "id": "edabec4f",
   "metadata": {},
   "outputs": [
    {
     "name": "stdout",
     "output_type": "stream",
     "text": [
      "Via QR Decomposition\n",
      "[[-0.03711936]\n",
      " [-0.10251673]\n",
      " [ 0.01377047]\n",
      " [ 0.06995051]\n",
      " [ 0.05964589]\n",
      " [ 0.06797871]]\n",
      " \n",
      "Via the Left Inverse\n",
      "[[-0.03711936]\n",
      " [-0.10251673]\n",
      " [ 0.01377047]\n",
      " [ 0.06995051]\n",
      " [ 0.05964589]\n",
      " [ 0.06797871]]\n",
      " \n",
      "Proof\n",
      "[[-2.08166817e-17]\n",
      " [-5.55111512e-17]\n",
      " [-3.46944695e-17]\n",
      " [ 4.16333634e-17]\n",
      " [ 1.38777878e-17]\n",
      " [ 1.38777878e-17]]\n"
     ]
    }
   ],
   "source": [
    "\"\"\"\n",
    "Implementing the least-squares algorithm via QR decomposition. \n",
    "Comparing it with the method of computing the least-squares algo via the left inverse. \n",
    "Both outputs should be the same.\n",
    "Proof is conducted using subtraction, taking one away from the other will give zero. \n",
    "Note: The proof is equal to 0 + computer rounding error. \n",
    "\"\"\"\n",
    "\n",
    "# Generate random data (design matrix X, data y) \n",
    "m = 100\n",
    "n = 6 \n",
    "X = np.random.randn(m,n) \n",
    "y = np.random.randn(m,1) \n",
    "\n",
    "# Solve for beta using QR decomposition \n",
    "Q,R = np.linalg.qr(X,'complete')\n",
    "beta_qr = np.linalg.solve(R.T@R, (Q@R).T@y)\n",
    "\n",
    "# Compare QR results against the left inverse method \n",
    "beta_lstq = np.linalg.solve(X.T@X, X.T@y)\n",
    "beta_lstq = np.linalg.lstsq(X,y,rcond=None)[0]\n",
    "\n",
    "# Print \n",
    "print(\"Via QR Decomposition\")\n",
    "print(beta_qr)\n",
    "print(\" \")\n",
    "print(\"Via the Left Inverse\")\n",
    "print(beta_lstq)\n",
    "print(\" \")\n",
    "print(\"Proof\")\n",
    "print(beta_qr-beta_lstq)\n"
   ]
  }
 ],
 "metadata": {
  "kernelspec": {
   "display_name": "Python 3 (ipykernel)",
   "language": "python",
   "name": "python3"
  },
  "language_info": {
   "codemirror_mode": {
    "name": "ipython",
    "version": 3
   },
   "file_extension": ".py",
   "mimetype": "text/x-python",
   "name": "python",
   "nbconvert_exporter": "python",
   "pygments_lexer": "ipython3",
   "version": "3.8.8"
  }
 },
 "nbformat": 4,
 "nbformat_minor": 5
}
