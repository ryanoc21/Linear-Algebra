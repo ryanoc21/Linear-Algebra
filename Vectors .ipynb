{
 "cells": [
  {
   "cell_type": "code",
   "execution_count": 1,
   "id": "8d99f8e0",
   "metadata": {},
   "outputs": [],
   "source": [
    "import numpy as np \n",
    "import matplotlib.pyplot as plt \n",
    "import random"
   ]
  },
  {
   "cell_type": "markdown",
   "id": "bfbb4ac7",
   "metadata": {},
   "source": [
    "### Code Challenge 1 \n",
    "#### Create a 2D vector v, 10 scalars that are drawn at random from an normal distribution (Gaussian), and plot all 10 scalar-vector multiplications on top of each other."
   ]
  },
  {
   "cell_type": "code",
   "execution_count": 2,
   "id": "a80934f2",
   "metadata": {},
   "outputs": [
    {
     "data": {
      "image/png": "[encoded data removed]",
      "text/plain": [
       "<Figure size 432x288 with 1 Axes>"
      ]
     },
     "metadata": {
      "needs_background": "light"
     },
     "output_type": "display_data"
    }
   ],
   "source": [
    "v = np.array([1,2])\n",
    "plt.plot([0,v[0]], [0,v[1]])\n",
    "for i in range(10):\n",
    "    scalars = np.random.randn()\n",
    "    sv = scalars * v \n",
    "    plt.plot([0,sv[0]], [0,sv[1]])\n",
    "    \n",
    "plt.grid('on')\n",
    "plt.axis([-4,3,-3,3])\n",
    "plt.show()\n"
   ]
  },
  {
   "cell_type": "markdown",
   "id": "13478ef5",
   "metadata": {},
   "source": [
    "### Code Challenge 2 \n",
    "#### Create 2, 4x6 matrices of random numbers. Use a for loop to compute the dot product between corresponding columns"
   ]
  },
  {
   "cell_type": "code",
   "execution_count": 3,
   "id": "b973dae4",
   "metadata": {},
   "outputs": [
    {
     "name": "stdout",
     "output_type": "stream",
     "text": [
      "[[ 1.44606041 -0.22981193  1.37434186  0.32429107 -0.15267025  0.91362604]\n",
      " [-0.666629    1.52535401 -0.2676144  -0.55590435  0.71938418  0.427367  ]\n",
      " [-1.19629266  0.42818548  2.22603675  0.32396504  0.54889909  0.05839195]\n",
      " [-0.51573983  0.49768801 -0.13196231  0.82863922 -1.13034078  1.33988183]]\n",
      " \n",
      "[[-0.60359374 -1.04630214 -0.3664998  -0.90496098 -0.40305996  0.13907296]\n",
      " [ 0.53786956  1.51085075  0.47657645 -0.67672252 -1.02005569  0.11320765]\n",
      " [ 0.23914195 -0.43182542 -0.58748338  1.67927575 -1.79732822 -1.61063628]\n",
      " [ 2.27129772  0.63276918 -1.63519489 -0.21821439 -2.31026581  1.56521447]]\n",
      " \n",
      "[-2.68887491  2.67505522 -1.72321025  0.44592785  0.95255916  2.17859614]\n"
     ]
    }
   ],
   "source": [
    "m = 4 \n",
    "n = 6 \n",
    "\n",
    "A = np.random.randn(m,n) \n",
    "B = np.random.randn(m,n) \n",
    "print(A) \n",
    "print(\" \") \n",
    "print(B)\n",
    "print(\" \")\n",
    "\n",
    "dps = np.zeros(6)\n",
    "for i in range(n): \n",
    "    dps[i] = np.dot(A[:,i],B[:,i])\n",
    "print(dps)\n",
    "    "
   ]
  },
  {
   "cell_type": "markdown",
   "id": "70d8e327",
   "metadata": {},
   "source": [
    "### Code Challenge 3 - Is the dot product Commutative? \n",
    "#### Commutative: a'*b == b'*a. \n",
    "#### 1.) Generate two, 100 element random row vectors, compute dot product a with b, b with a \n",
    "#### 2.) Generate two, 2-element integer row vectors, repeat"
   ]
  },
  {
   "cell_type": "code",
   "execution_count": 4,
   "id": "4ac93f42",
   "metadata": {},
   "outputs": [
    {
     "name": "stdout",
     "output_type": "stream",
     "text": [
      "Part 1\n",
      "a'b  0.1383720011528361\n",
      "b'a 0.1383720011528361\n",
      " \n",
      "Part 2\n",
      "w'v -0.6765458755969482\n",
      "v'w -0.6765458755969482\n"
     ]
    }
   ],
   "source": [
    "#1. 100 element random row vectors \n",
    "a = np.random.randn(100) \n",
    "b = np.random.randn(100) \n",
    "print(\"Part 1\") \n",
    "print(\"a'b \", np.dot(a,b))\n",
    "print(\"b'a\", np.dot(b,a))\n",
    "\n",
    "print(\" \")\n",
    "\n",
    "#2. 2 element integer row vectors \n",
    "w = [np.random.randn(), np.random.randn()]\n",
    "v = [np.random.randn(), np.random.randn()]\n",
    "print(\"Part 2\")\n",
    "print(\"w'v\", np.dot(w, v))\n",
    "print(\"v'w\", np.dot(v,w))\n"
   ]
  },
  {
   "cell_type": "markdown",
   "id": "7030992b",
   "metadata": {},
   "source": [
    "### Code Challenge 4 - Cauchy-Shwarz Inequality \n"
   ]
  },
  {
   "cell_type": "code",
   "execution_count": 5,
   "id": "85057037",
   "metadata": {},
   "outputs": [
    {
     "name": "stdout",
     "output_type": "stream",
     "text": [
      "0.04988902566757489 < 4.617241686361532\n"
     ]
    }
   ],
   "source": [
    "#create 3 vectors, one of which is dependent on another \n",
    "a = np.random.randn(5)\n",
    "b = np.random.randn(5)\n",
    "c = np.random.randn(1) * a \n",
    "\n",
    "#compute their dot products \n",
    "aTb = np.dot(a,b) \n",
    "aTc = np.dot(a,c) \n",
    "\n",
    "#demonstrate inequalities \n",
    "print(f\"{np.abs(aTb)} < {np.linalg.norm(a)*np.linalg.norm(b)}\")\n"
   ]
  },
  {
   "cell_type": "markdown",
   "id": "3b6b62bb",
   "metadata": {},
   "source": [
    "### Code Challenge 5 - Dot Product Sign and Scalar Multiplication \n",
    "#### Determine whether the sign of the dot product is invariant to scalar multiplication "
   ]
  },
  {
   "cell_type": "code",
   "execution_count": 7,
   "id": "8cd9ac23",
   "metadata": {},
   "outputs": [
    {
     "name": "stdout",
     "output_type": "stream",
     "text": [
      "Original dot product:  2.0931261646719297\n",
      "Scaled dot product:  73.25941576351754\n"
     ]
    }
   ],
   "source": [
    "#Generate two vectors (R3) (Three dimensional)\n",
    "a = np.random.randn(3) \n",
    "b = np.random.randn(3) \n",
    "\n",
    "#Generate two scalars\n",
    "s1 = 7 \n",
    "s2 = 5 \n",
    "\n",
    "#Compute the dot product between the original vectors \n",
    "print(\"Original dot product: \", np.dot(a,b))\n",
    "\n",
    "#Compute the dot product between the scaled vectors \n",
    "print(\"Scaled dot product: \", np.dot(s1*a, s2*b))\n"
   ]
  },
  {
   "cell_type": "markdown",
   "id": "eacf6331",
   "metadata": {},
   "source": [
    "### Code Challenge 6 - Dot Products with Unit Vectors "
   ]
  },
  {
   "cell_type": "code",
   "execution_count": 75,
   "id": "1b333b0b",
   "metadata": {},
   "outputs": [
    {
     "name": "stdout",
     "output_type": "stream",
     "text": [
      "77.34985455707076 52.44044240850758 4056.2605932065067\n",
      "\n",
      "\n",
      "0.45295002507103466\n"
     ]
    }
   ],
   "source": [
    "# Create two random integer vectors (R4) \n",
    "n = 4 \n",
    "v1 = np.round(20*np.random.randn(4)) \n",
    "v2 = np.round(20*np.random.randn(4))\n",
    "\n",
    "# Compute the lengths of the individual vectors \n",
    "# And the magnitude of their dot product \n",
    "lenv1 = np.sqrt(np.dot(v1,v1)) #length of a vector is the square root of \n",
    "lenv2 = np.sqrt(np.dot(v2,v2)) #its dot product with itself \n",
    "mag_dot = np.abs(np.dot(lenv1,lenv2))\n",
    "print(lenv1, lenv2, mag_dot)\n",
    "print('')\n",
    "\n",
    "# Normalise (create unit vectors) the vectors \n",
    "mu1 = 1/np.linalg.norm(v1) \n",
    "mu2 = 1/np.linalg.norm(v2) \n",
    "v1n = v1*mu1\n",
    "v2n = v2*mu1\n",
    "print('')\n",
    "\n",
    "# Compute the magnitude of the dot product of the normalised vectors \n",
    "mag_dot_norm = np.abs(np.dot(v1n,v2n))\n",
    "print(mag_dot_norm)\n"
   ]
  }
 ],
 "metadata": {
  "kernelspec": {
   "display_name": "Python 3 (ipykernel)",
   "language": "python",
   "name": "python3"
  },
  "language_info": {
   "codemirror_mode": {
    "name": "ipython",
    "version": 3
   },
   "file_extension": ".py",
   "mimetype": "text/x-python",
   "name": "python",
   "nbconvert_exporter": "python",
   "pygments_lexer": "ipython3",
   "version": "3.8.8"
  }
 },
 "nbformat": 4,
 "nbformat_minor": 5
}
