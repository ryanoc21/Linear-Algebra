{
 "cells": [
  {
   "cell_type": "code",
   "execution_count": 1,
   "id": "75db81fd",
   "metadata": {},
   "outputs": [],
   "source": [
    "import numpy as np "
   ]
  },
  {
   "cell_type": "markdown",
   "id": "b9fe4309",
   "metadata": {},
   "source": [
    "# Code Challenge 1: \n",
    "## Determine whether scalar-matrix multiplication is linear, i.e., does it obey the distributive property. \n",
    "\n",
    "### Test for some randomly generated matrices whether s(A+B) = s(A) + s(B) "
   ]
  },
  {
   "cell_type": "code",
   "execution_count": 2,
   "id": "ea9b57b6",
   "metadata": {},
   "outputs": [],
   "source": [
    "# Matrix sizes \n",
    "m = 7 \n",
    "n = 5 \n",
    "\n",
    "# Matrices \n",
    "M = np.random.randn(m,n) \n",
    "N = np.random.randn(m,n) \n",
    "\n",
    "# Scalar \n",
    "s = np.random.randint(100) \n"
   ]
  },
  {
   "cell_type": "code",
   "execution_count": 4,
   "id": "d6947e21",
   "metadata": {},
   "outputs": [
    {
     "name": "stdout",
     "output_type": "stream",
     "text": [
      "[[ 0.00000000e+00 -2.84217094e-14  3.55271368e-15 -3.55271368e-15\n",
      "   2.84217094e-14]\n",
      " [-2.84217094e-14  0.00000000e+00  0.00000000e+00  0.00000000e+00\n",
      "   0.00000000e+00]\n",
      " [-7.10542736e-15  0.00000000e+00 -3.10862447e-15  0.00000000e+00\n",
      "   0.00000000e+00]\n",
      " [ 0.00000000e+00  1.77635684e-15  0.00000000e+00  0.00000000e+00\n",
      "   0.00000000e+00]\n",
      " [ 0.00000000e+00  0.00000000e+00  0.00000000e+00 -7.10542736e-15\n",
      "   0.00000000e+00]\n",
      " [-3.55271368e-15  0.00000000e+00 -1.77635684e-15  0.00000000e+00\n",
      "   0.00000000e+00]\n",
      " [ 0.00000000e+00 -2.84217094e-14 -2.84217094e-14  0.00000000e+00\n",
      "   0.00000000e+00]]\n"
     ]
    }
   ],
   "source": [
    "a = s*(M+N) \n",
    "b = s*N + s*M\n",
    "\n",
    "# If they are the same the values will all be zero \n",
    "# Note: Output will include some computer rounding error. The numbers are all basically zero \n",
    "print(a-b)"
   ]
  },
  {
   "cell_type": "markdown",
   "id": "609a660c",
   "metadata": {},
   "source": [
    "# Code Challenge 2 - The Linearity of Trace\n",
    "## If the trace is a linear operator, the quantities of the following relationships should be the same: \n",
    "### (i) The relationship between trace(A) + trace(B) and trace(A+B) \n",
    "### (ii) The relationship between trace(lambda x A) and lamda x trace(A), where lamda is a random scalar "
   ]
  },
  {
   "cell_type": "code",
   "execution_count": 7,
   "id": "a45b6cf1",
   "metadata": {},
   "outputs": [],
   "source": [
    "# Generating two random matrices and a random scalar \n",
    "\n",
    "# Matrix sizes \n",
    "m = 7 \n",
    "n = 5 \n",
    "\n",
    "# Matrices \n",
    "A = np.random.randn(m,n) \n",
    "B = np.random.randn(m,n) \n",
    "\n",
    "# Scalar \n",
    "s = np.random.randint(100) \n"
   ]
  },
  {
   "cell_type": "code",
   "execution_count": 13,
   "id": "5b89a314",
   "metadata": {},
   "outputs": [
    {
     "name": "stdout",
     "output_type": "stream",
     "text": [
      "4.044564455311481\n",
      "4.044564455311481\n",
      " \n",
      "0.0\n",
      "True\n"
     ]
    }
   ],
   "source": [
    "# (i) \n",
    "ai = np.trace(A) + np.trace(B) \n",
    "bi = np.trace(A+B) \n",
    "print(ai) \n",
    "print(bi) \n",
    "print(\" \")\n",
    "\n",
    "# Are these values the same? \n",
    "print(ai-bi) \n",
    "print(ai == bi)\n"
   ]
  },
  {
   "cell_type": "code",
   "execution_count": 15,
   "id": "1602ffcd",
   "metadata": {},
   "outputs": [
    {
     "name": "stdout",
     "output_type": "stream",
     "text": [
      "126.09460786277582\n",
      "126.09460786277582\n",
      " \n",
      "0.0\n",
      "True\n"
     ]
    }
   ],
   "source": [
    "# (ii) \n",
    "aii = np.trace(s * A) \n",
    "bii = s * np.trace(A) \n",
    "print(aii) \n",
    "print(bii) \n",
    "print(\" \")\n",
    "\n",
    "# Are these values the same? \n",
    "print(aii - bii)\n",
    "print(aii == bii)"
   ]
  },
  {
   "cell_type": "markdown",
   "id": "99d2a32b",
   "metadata": {},
   "source": [
    "#### Based on the above answers, the trace is a distributive function and therefore is linear"
   ]
  }
 ],
 "metadata": {
  "kernelspec": {
   "display_name": "Python 3 (ipykernel)",
   "language": "python",
   "name": "python3"
  },
  "language_info": {
   "codemirror_mode": {
    "name": "ipython",
    "version": 3
   },
   "file_extension": ".py",
   "mimetype": "text/x-python",
   "name": "python",
   "nbconvert_exporter": "python",
   "pygments_lexer": "ipython3",
   "version": "3.8.8"
  }
 },
 "nbformat": 4,
 "nbformat_minor": 5
}
